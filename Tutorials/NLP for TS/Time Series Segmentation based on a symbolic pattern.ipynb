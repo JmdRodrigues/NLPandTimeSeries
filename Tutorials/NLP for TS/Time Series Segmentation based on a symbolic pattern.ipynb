{
 "cells": [
  {
   "cell_type": "markdown",
   "id": "ambient-chicken",
   "metadata": {},
   "source": [
    "### Using spacy to make time series analysis on its symbolic representation\n",
    "\n",
    "#### Merging and splitting"
   ]
  },
  {
   "cell_type": "code",
   "execution_count": 13,
   "id": "statewide-civilian",
   "metadata": {},
   "outputs": [],
   "source": [
    "import spacy\n",
    "\n",
    "\n",
    "ts1 = \"ppnzppnzppnz\"\n",
    "#we can use the split function from python to segment time series\n",
    "#we can also use a pattern on the split function to segment the time series\n",
    "#we can add a pattern to the splitted time series:\n",
    "# ssts_obj.split(\"z\").search(\"pn\")\n"
   ]
  },
  {
   "cell_type": "markdown",
   "id": "played-arcade",
   "metadata": {},
   "source": [
    "### What are stop words in time series?"
   ]
  },
  {
   "cell_type": "markdown",
   "id": "nasty-charm",
   "metadata": {},
   "source": [
    "### What is the lemmatizer/stemmer of time series?\n",
    "\n",
    "- It can be related with time: several patterns that have the same main structure, but vary in the end\n",
    "- It can be related with the filtering: patterns that have the same main shape, but have random occurences in the middle\n"
   ]
  },
  {
   "cell_type": "markdown",
   "id": "biological-deviation",
   "metadata": {},
   "source": [
    "### Using the vector from TFIDF/BoW for query search on time series\n",
    "\n",
    "I can (1) segment the time series into windows, (2) extract the words from this time series and create a document per window, (3) create the model from the BoW and TFIDF. Then, I can write a query (not exactly a regular expression) flexible to search for similar patterns in the time series."
   ]
  },
  {
   "cell_type": "code",
   "execution_count": null,
   "id": "noticed-impossible",
   "metadata": {},
   "outputs": [],
   "source": []
  }
 ],
 "metadata": {
  "kernelspec": {
   "display_name": "Python 3",
   "language": "python",
   "name": "python3"
  },
  "language_info": {
   "codemirror_mode": {
    "name": "ipython",
    "version": 3
   },
   "file_extension": ".py",
   "mimetype": "text/x-python",
   "name": "python",
   "nbconvert_exporter": "python",
   "pygments_lexer": "ipython3",
   "version": "3.8.0"
  }
 },
 "nbformat": 4,
 "nbformat_minor": 5
}
