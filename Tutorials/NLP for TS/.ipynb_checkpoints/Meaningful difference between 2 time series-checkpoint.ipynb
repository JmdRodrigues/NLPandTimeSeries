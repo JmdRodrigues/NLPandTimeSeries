{
 "cells": [
  {
   "cell_type": "markdown",
   "id": "tamil-chain",
   "metadata": {},
   "source": [
    "# Meaningful difference between time series\n",
    "\n",
    "In this notebook, I will try to perform a differentiation between two time series, meaningfully, that is, providing a way of extracting the connotation difference between them with the appearance of characters."
   ]
  },
  {
   "cell_type": "code",
   "execution_count": 16,
   "id": "alive-congo",
   "metadata": {},
   "outputs": [],
   "source": [
    "import sys\n",
    "import os\n",
    "import itertools\n",
    "\n",
    "sys.path.insert(0, 'D:\\PhD\\Code\\PhDProject')\n",
    "\n",
    "#TOOLS\n",
    "from tools.load_tools import loadH5\n",
    "from tools.processing_tools import multi_smooth, mean_norm\n",
    "from tools.string_processing_tools import runLengthEncoding, NgramsInt, WindowRLEString, chunkDataRLE, lstStr2Str, lcsDist, dynamic_lcs_accumulated\n",
    "from tools.plot_tools import plot_textcolorized\n",
    "\n",
    "#SKLEARN\n",
    "from sklearn.feature_extraction.text import TfidfVectorizer, CountVectorizer, HashingVectorizer\n",
    "from sklearn.cluster import MiniBatchKMeans, KMeans\n",
    "from sklearn.metrics import average_precision_score, classification_report\n",
    "from sklearn.naive_bayes import MultinomialNB\n",
    "from sklearn.metrics.pairwise import cosine_similarity, euclidean_distances, manhattan_distances\n",
    "from sklearn.metrics import confusion_matrix\n",
    "\n",
    "#GOT\n",
    "from GrammarofTime.SSTS.backend.gotstools import *\n",
    "\n",
    "#PYTS\n",
    "from pyts import datasets\n",
    "\n",
    "#Wordcloud to show images of words\n",
    "from wordcloud import WordCloud\n",
    "\n",
    "#textdistance package\n",
    "import textdistance\n",
    "\n",
    "#other functions\n",
    "from definitions import CONFIG_PATH\n",
    "\n",
    "#pandas\n",
    "from pandas import read_json\n",
    "import pandas as pd\n",
    "\n",
    "#novainstrumentation\n",
    "from novainstrumentation import smooth\n",
    "\n",
    "#ipython display\n",
    "from IPython.display import display\n",
    "# %matplotlib notebook\n",
    "%matplotlib inline"
   ]
  },
  {
   "cell_type": "code",
   "execution_count": 2,
   "id": "valued-registrar",
   "metadata": {},
   "outputs": [],
   "source": [
    "data = datasets.fetch_ucr_dataset(\"GunPoint\", use_cache=True, data_home=None, return_X_y=False)\n",
    "\n",
    "X_train = data[\"data_train\"]\n",
    "y_train = data[\"target_train\"]\n",
    "\n",
    "X_test = data[\"data_test\"]\n",
    "y_test = data[\"target_test\"]"
   ]
  },
  {
   "cell_type": "code",
   "execution_count": 12,
   "id": "sudden-sociology",
   "metadata": {},
   "outputs": [
    {
     "data": {
      "text/plain": [
       "[<matplotlib.lines.Line2D at 0x2a194dac160>]"
      ]
     },
     "execution_count": 12,
     "metadata": {},
     "output_type": "execute_result"
    },
    {
     "data": {
      "image/png": "[encoded data removed]",
      "text/plain": [
       "<Figure size 432x288 with 1 Axes>"
      ]
     },
     "metadata": {
      "needs_background": "light"
     },
     "output_type": "display_data"
    }
   ],
   "source": [
    "plt.plot(X_train[0])\n",
    "plt.plot(X_train[6])"
   ]
  },
  {
   "cell_type": "markdown",
   "id": "academic-allergy",
   "metadata": {},
   "source": [
    "#### What is the difference between these two signals?"
   ]
  },
  {
   "cell_type": "code",
   "execution_count": 13,
   "id": "apparent-binary",
   "metadata": {},
   "outputs": [],
   "source": [
    "def sig2doc(sig, win_len, overlap_len, connotation_m):\n",
    "    \"\"\"\n",
    "    sig: signal\n",
    "    win_len: window size to create a word\n",
    "    overlap_len: overlap of sliding window\n",
    "    connotation_m: connotation method -> translation features\n",
    "    \"\"\"\n",
    "    sig1_str = connotation([sig], connotation_m)[2]\n",
    "\n",
    "    sig1_rle_str = chunkDataRLE(np.array(sig1_str), win_len, overlap_len)\n",
    "\n",
    "    sig1_doc = lstStr2Str(sig1_rle_str)\n",
    "\n",
    "    return sig1_doc"
   ]
  },
  {
   "cell_type": "code",
   "execution_count": 35,
   "id": "valuable-institution",
   "metadata": {},
   "outputs": [],
   "source": [
    "doc1 = sig2doc(X_train[0], 1, 0, \"AQ 3 D1 0.025\")\n",
    "doc2 = sig2doc(X_train[6], 1, 0, \"AQ 3 D1 0.025\")\n",
    "\n",
    "count_vec = CountVectorizer(ngram_range=(1,2), token_pattern=r\"(?u)\\b\\w+\\b\")\n",
    "count_model = count_vec.fit_transform([doc1, doc2])"
   ]
  },
  {
   "cell_type": "code",
   "execution_count": 58,
   "id": "written-raleigh",
   "metadata": {},
   "outputs": [
    {
     "data": {
      "text/html": [
       "<div>\n",
       "<style scoped>\n",
       "    .dataframe tbody tr th:only-of-type {\n",
       "        vertical-align: middle;\n",
       "    }\n",
       "\n",
       "    .dataframe tbody tr th {\n",
       "        vertical-align: top;\n",
       "    }\n",
       "\n",
       "    .dataframe thead th {\n",
       "        text-align: right;\n",
       "    }\n",
       "</style>\n",
       "<table border=\"1\" class=\"dataframe\">\n",
       "  <thead>\n",
       "    <tr style=\"text-align: right;\">\n",
       "      <th></th>\n",
       "      <th>an</th>\n",
       "      <th>an an</th>\n",
       "      <th>an az</th>\n",
       "      <th>ap</th>\n",
       "      <th>ap ap</th>\n",
       "      <th>ap az</th>\n",
       "      <th>ap bp</th>\n",
       "      <th>az</th>\n",
       "      <th>az an</th>\n",
       "      <th>az ap</th>\n",
       "      <th>...</th>\n",
       "      <th>cn bn</th>\n",
       "      <th>cn cn</th>\n",
       "      <th>cn cz</th>\n",
       "      <th>cp</th>\n",
       "      <th>cp cp</th>\n",
       "      <th>cp cz</th>\n",
       "      <th>cz</th>\n",
       "      <th>cz bz</th>\n",
       "      <th>cz cn</th>\n",
       "      <th>cz cz</th>\n",
       "    </tr>\n",
       "  </thead>\n",
       "  <tbody>\n",
       "    <tr>\n",
       "      <th>0</th>\n",
       "      <td>False</td>\n",
       "      <td>False</td>\n",
       "      <td>False</td>\n",
       "      <td>False</td>\n",
       "      <td>False</td>\n",
       "      <td>False</td>\n",
       "      <td>False</td>\n",
       "      <td>False</td>\n",
       "      <td>False</td>\n",
       "      <td>False</td>\n",
       "      <td>...</td>\n",
       "      <td>False</td>\n",
       "      <td>False</td>\n",
       "      <td>False</td>\n",
       "      <td>False</td>\n",
       "      <td>False</td>\n",
       "      <td>False</td>\n",
       "      <td>True</td>\n",
       "      <td>False</td>\n",
       "      <td>False</td>\n",
       "      <td>True</td>\n",
       "    </tr>\n",
       "  </tbody>\n",
       "</table>\n",
       "<p>1 rows × 37 columns</p>\n",
       "</div>"
      ],
      "text/plain": [
       "      an  an an  an az     ap  ap ap  ap az  ap bp     az  az an  az ap  ...  \\\n",
       "0  False  False  False  False  False  False  False  False  False  False  ...   \n",
       "\n",
       "   cn bn  cn cn  cn cz     cp  cp cp  cp cz    cz  cz bz  cz cn  cz cz  \n",
       "0  False  False  False  False  False  False  True  False  False   True  \n",
       "\n",
       "[1 rows x 37 columns]"
      ]
     },
     "metadata": {},
     "output_type": "display_data"
    }
   ],
   "source": [
    "df = pd.DataFrame(np.diff(count_model.toarray(), axis=0), columns= count_vec.get_feature_names())\n",
    "display(df>10)\n"
   ]
  },
  {
   "cell_type": "code",
   "execution_count": 70,
   "id": "sophisticated-opera",
   "metadata": {},
   "outputs": [
    {
     "name": "stdout",
     "output_type": "stream",
     "text": [
      "        0\n",
      "an      4\n",
      "an an   2\n",
      "an az   2\n",
      "ap      5\n",
      "ap ap   4\n",
      "ap az   1\n",
      "ap bp   0\n",
      "az    -10\n",
      "az an   1\n",
      "az ap   1\n",
      "az az -11\n",
      "az bz  -2\n",
      "bn     18\n",
      "bn an   0\n",
      "bn bn  18\n",
      "bp     12\n",
      "bp bp  10\n",
      "bp bz   2\n",
      "bp cp  -1\n",
      "bp cz   1\n",
      "bz    -29\n",
      "bz az  -2\n",
      "bz bn   1\n",
      "bz bp   2\n",
      "bz bz -32\n",
      "bz cz   3\n",
      "cn    -15\n",
      "cn bn  -1\n",
      "cn cn -12\n",
      "cn cz  -2\n",
      "cp    -12\n",
      "cp cp -11\n",
      "cp cz  -1\n",
      "cz     27\n",
      "cz bz   4\n",
      "cz cn  -3\n",
      "cz cz  26\n"
     ]
    },
    {
     "data": {
      "text/plain": [
       "[Text(0, 0, 'an'),\n",
       " Text(1, 0, 'an an'),\n",
       " Text(2, 0, 'an az'),\n",
       " Text(3, 0, 'ap'),\n",
       " Text(4, 0, 'ap ap'),\n",
       " Text(5, 0, 'ap az'),\n",
       " Text(6, 0, 'ap bp'),\n",
       " Text(7, 0, 'az'),\n",
       " Text(8, 0, 'az an'),\n",
       " Text(9, 0, 'az ap'),\n",
       " Text(10, 0, 'az az'),\n",
       " Text(11, 0, 'az bz'),\n",
       " Text(12, 0, 'bn'),\n",
       " Text(13, 0, 'bn an'),\n",
       " Text(14, 0, 'bn bn'),\n",
       " Text(15, 0, 'bp'),\n",
       " Text(16, 0, 'bp bp'),\n",
       " Text(17, 0, 'bp bz'),\n",
       " Text(18, 0, 'bp cp'),\n",
       " Text(19, 0, 'bp cz'),\n",
       " Text(20, 0, 'bz'),\n",
       " Text(21, 0, 'bz az'),\n",
       " Text(22, 0, 'bz bn'),\n",
       " Text(23, 0, 'bz bp'),\n",
       " Text(24, 0, 'bz bz'),\n",
       " Text(25, 0, 'bz cz'),\n",
       " Text(26, 0, 'cn'),\n",
       " Text(27, 0, 'cn bn'),\n",
       " Text(28, 0, 'cn cn'),\n",
       " Text(29, 0, 'cn cz'),\n",
       " Text(30, 0, 'cp'),\n",
       " Text(31, 0, 'cp cp'),\n",
       " Text(32, 0, 'cp cz'),\n",
       " Text(33, 0, 'cz'),\n",
       " Text(34, 0, 'cz bz'),\n",
       " Text(35, 0, 'cz cn'),\n",
       " Text(36, 0, 'cz cz')]"
      ]
     },
     "execution_count": 70,
     "metadata": {},
     "output_type": "execute_result"
    },
    {
     "data": {
      "text/plain": [
       "<Figure size 1440x720 with 0 Axes>"
      ]
     },
     "metadata": {},
     "output_type": "display_data"
    },
    {
     "data": {
      "image/png": "[encoded data removed]",
      "text/plain": [
       "<Figure size 432x288 with 1 Axes>"
      ]
     },
     "metadata": {
      "needs_background": "light"
     },
     "output_type": "display_data"
    }
   ],
   "source": [
    "df = df.transpose()\n",
    "print(df)\n",
    "fig = plt.figure(figsize=(20,10))\n",
    "ax = df.plot.bar(color=\"orange\")\n",
    "\n",
    "ax.set_xticks(range(len(df.index)))\n",
    "ax.set_xticklabels(df.index)"
   ]
  },
  {
   "cell_type": "markdown",
   "id": "sporting-xerox",
   "metadata": {},
   "source": [
    "Let us print the 5 most different words between the two time series:"
   ]
  },
  {
   "cell_type": "code",
   "execution_count": 74,
   "id": "unsigned-sponsorship",
   "metadata": {},
   "outputs": [
    {
     "name": "stdout",
     "output_type": "stream",
     "text": [
      "        0\n",
      "bz bz  32\n",
      "bz     29\n",
      "cz     27\n",
      "cz cz  26\n",
      "bn     18\n"
     ]
    }
   ],
   "source": [
    "sorted_values = np.abs(df).sort_values(by=0)[::-1][:5]\n",
    "print(sorted_values)"
   ]
  },
  {
   "cell_type": "markdown",
   "id": "instructional-finger",
   "metadata": {},
   "source": []
  }
 ],
 "metadata": {
  "kernelspec": {
   "display_name": "Python 3",
   "language": "python",
   "name": "python3"
  },
  "language_info": {
   "codemirror_mode": {
    "name": "ipython",
    "version": 3
   },
   "file_extension": ".py",
   "mimetype": "text/x-python",
   "name": "python",
   "nbconvert_exporter": "python",
   "pygments_lexer": "ipython3",
   "version": "3.8.0"
  }
 },
 "nbformat": 4,
 "nbformat_minor": 5
}
